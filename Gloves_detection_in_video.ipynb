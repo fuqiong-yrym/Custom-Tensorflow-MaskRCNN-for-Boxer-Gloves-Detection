{
 "cells": [
  {
   "cell_type": "markdown",
   "metadata": {},
   "source": [
    "# Demo of Gloves Detection in Video\n",
    "In this notebook, I will walk through a demo to show how to use tensorflow object detection API to detect and segment boxer gloves in a short video.\n",
    "\n",
    "To process frames of images in the vido, the python library moviepy is used. Install it first if necessary."
   ]
  },
  {
   "cell_type": "code",
   "execution_count": 2,
   "metadata": {},
   "outputs": [],
   "source": [
    "import os\n",
    "import time\n",
    "import argparse\n",
    "import multiprocessing\n",
    "import numpy as np\n",
    "import tensorflow as tf\n",
    "from matplotlib import pyplot as plt\n",
    "from object_detection.utils import ops as utils_ops"
   ]
  },
  {
   "cell_type": "code",
   "execution_count": 3,
   "metadata": {},
   "outputs": [],
   "source": [
    "from object_detection.utils import label_map_util\n",
    "from object_detection.utils import visualization_utils as vis_util"
   ]
  },
  {
   "cell_type": "code",
   "execution_count": 4,
   "metadata": {},
   "outputs": [],
   "source": [
    "def model_detect(image_np, sess, detection_graph):\n",
    "    # Expand dimensions since the model expects images to have shape: [1, None, None, 3]\n",
    "    image_np_expanded = np.expand_dims(image_np, axis=0)\n",
    "    image_tensor = detection_graph.get_tensor_by_name('image_tensor:0')\n",
    "\n",
    "    # Each box represents a part of the image where a particular object was detected.\n",
    "    boxes = detection_graph.get_tensor_by_name('detection_boxes:0')\n",
    "\n",
    "    # Each score represent how level of confidence for each of the objects.\n",
    "    # Score is shown on the result image, together with the class label.\n",
    "    scores = detection_graph.get_tensor_by_name('detection_scores:0')\n",
    "    classes = detection_graph.get_tensor_by_name('detection_classes:0')\n",
    "    num_detections = detection_graph.get_tensor_by_name('num_detections:0')\n",
    "    \n",
    "    ############################################################################\n",
    "    detection_boxes = tf.squeeze(boxes, [0])\n",
    "    detection_masks = tf.squeeze(detection_graph.get_tensor_by_name('detection_masks:0'), [0])\n",
    "    # Reframe is required to translate mask from box coordinates to image coordinates and fit the image size.\n",
    "    real_num_detection = tf.cast(num_detections[0], tf.int32)\n",
    "    detection_boxes = tf.slice(detection_boxes, [0, 0], [real_num_detection, -1])\n",
    "    detection_masks = tf.slice(detection_masks, [0, 0, 0], [real_num_detection, -1, -1])\n",
    "    detection_masks_reframed = utils_ops.reframe_box_masks_to_image_masks(\n",
    "        detection_masks, detection_boxes, image_np_expanded.shape[1], image_np_expanded.shape[2])\n",
    "    detection_masks_reframed = tf.cast(tf.greater(detection_masks_reframed, 0.5), tf.uint8)\n",
    "    # Follow the convention by adding back the batch dimension\n",
    "    detection_masks = tf.expand_dims(detection_masks_reframed, 0)\n",
    "    ############################################################################\n",
    "    \n",
    "    # Actual detection.\n",
    "    (boxes, scores, classes, num_detections, detection_masks) = sess.run(\n",
    "        [boxes, scores, classes, num_detections, detection_masks],\n",
    "        feed_dict={image_tensor: image_np_expanded})\n",
    "\n",
    "    # Visualization of the results of a detection.\n",
    "    image_copy = np.copy(image_np)\n",
    "    vis_util.visualize_boxes_and_labels_on_image_array(\n",
    "        image_copy,\n",
    "        np.squeeze(boxes),\n",
    "        np.squeeze(classes).astype(np.int32),\n",
    "        np.squeeze(scores),\n",
    "        category_index,\n",
    "        instance_masks=detection_masks[0],\n",
    "        use_normalized_coordinates=True,\n",
    "        line_thickness=8)\n",
    "    plt.figure(figsize=(12,8))\n",
    "    plt.imshow(image_copy)\n",
    "    return image_copy"
   ]
  },
  {
   "cell_type": "code",
   "execution_count": 6,
   "metadata": {},
   "outputs": [],
   "source": [
    "PATH_TO_LABELS = '../annotations_boxgloves_train/label_map.pbtxt'\n",
    "category_index = label_map_util.create_category_index_from_labelmap(PATH_TO_LABELS, use_display_name=True)\n",
    "PATH_TO_FROZEN_GRAPH = '../exported_graphs_gloves/frozen_inference_graph.pb'\n",
    "detection_graph = tf.Graph()\n",
    "with detection_graph.as_default():\n",
    "  od_graph_def = tf.GraphDef()\n",
    "  with tf.gfile.GFile(PATH_TO_FROZEN_GRAPH, 'rb') as fid:\n",
    "    serialized_graph = fid.read()\n",
    "    od_graph_def.ParseFromString(serialized_graph)\n",
    "    tf.import_graph_def(od_graph_def, name='')"
   ]
  },
  {
   "cell_type": "code",
   "execution_count": 7,
   "metadata": {},
   "outputs": [],
   "source": [
    "def image_func(image):\n",
    "    # NOTE: The output you return should be a color image (3 channel) for processing video below\n",
    "    # you should return the final output (image with lines are drawn on lanes)\n",
    "    with detection_graph.as_default():\n",
    "        with tf.Session(graph=detection_graph) as sess:\n",
    "            image_processed = model_detect(image, sess, detection_graph)\n",
    "            return image_processed"
   ]
  },
  {
   "cell_type": "code",
   "execution_count": 8,
   "metadata": {},
   "outputs": [],
   "source": [
    "# Import everything needed to edit/save/watch video clips\n",
    "from moviepy.editor import VideoFileClip\n",
    "from IPython.display import HTML"
   ]
  },
  {
   "cell_type": "code",
   "execution_count": 10,
   "metadata": {},
   "outputs": [
    {
     "name": "stderr",
     "output_type": "stream",
     "text": [
      "\r",
      "t:   0%|          | 0/75 [00:00<?, ?it/s, now=None]"
     ]
    },
    {
     "name": "stdout",
     "output_type": "stream",
     "text": [
      "Moviepy - Building video Boxing_fight_readme.mp4.\n",
      "Moviepy - Writing video Boxing_fight_readme.mp4\n",
      "\n"
     ]
    },
    {
     "name": "stderr",
     "output_type": "stream",
     "text": [
      "                                                                  \r"
     ]
    },
    {
     "name": "stdout",
     "output_type": "stream",
     "text": [
      "Moviepy - Done !\n",
      "Moviepy - video ready Boxing_fight_readme.mp4\n",
      "CPU times: user 1h 15min 23s, sys: 9min 57s, total: 1h 25min 21s\n",
      "Wall time: 9h 10min 35s\n"
     ]
    }
   ],
   "source": [
    "white_output = 'Boxing_fight_readme.mp4'\n",
    "clip = VideoFileClip(\"Boxing.mp4\").subclip(4,7)\n",
    "white_clip = clip.fl_image(image_func) #NOTE: this function expects color images!!s\n",
    "%time white_clip.write_videofile(white_output, audio=False)"
   ]
  },
  {
   "cell_type": "code",
   "execution_count": 12,
   "metadata": {
    "scrolled": false
   },
   "outputs": [
    {
     "data": {
      "text/html": [
       "\n",
       "<video width=\"800\" height=\"450\" controls>\n",
       "  <source src=\"Boxing_fight_readme.mp4\">\n",
       "</video>\n"
      ],
      "text/plain": [
       "<IPython.core.display.HTML object>"
      ]
     },
     "execution_count": 12,
     "metadata": {},
     "output_type": "execute_result"
    }
   ],
   "source": [
    "HTML(\"\"\"\n",
    "<video width=\"800\" height=\"450\" controls>\n",
    "  <source src=\"{0}\">\n",
    "</video>\n",
    "\"\"\".format(white_output))"
   ]
  },
  {
   "cell_type": "code",
   "execution_count": null,
   "metadata": {},
   "outputs": [],
   "source": []
  }
 ],
 "metadata": {
  "kernelspec": {
   "display_name": "Python 3",
   "language": "python",
   "name": "python3"
  },
  "language_info": {
   "codemirror_mode": {
    "name": "ipython",
    "version": 3
   },
   "file_extension": ".py",
   "mimetype": "text/x-python",
   "name": "python",
   "nbconvert_exporter": "python",
   "pygments_lexer": "ipython3",
   "version": "3.7.4"
  }
 },
 "nbformat": 4,
 "nbformat_minor": 2
}
